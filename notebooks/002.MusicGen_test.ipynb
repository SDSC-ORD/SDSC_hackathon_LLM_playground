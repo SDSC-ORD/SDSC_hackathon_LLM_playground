{
 "cells": [
  {
   "attachments": {},
   "cell_type": "markdown",
   "metadata": {},
   "source": [
    "<hr>"
   ]
  },
  {
   "attachments": {},
   "cell_type": "markdown",
   "metadata": {},
   "source": [
    "<div>\n",
    "    <img src=\"https://datascience.ch/wp-content/uploads/2020/09/logo-SDSC-transparent.png\" alt=\"SDSC\" width=\"200\">\n",
    "</div>"
   ]
  },
  {
   "attachments": {},
   "cell_type": "markdown",
   "metadata": {},
   "source": [
    "# SDSC Music Gen Test\n",
    "- Maintained by [carlos.vivarrios@epfl.ch](carlos.vivarrios@epfl.ch)\n",
    "- This tutorial is made to be run in this [docker image](https://hub.docker.com/r/caviri/sdsc-llm-playground)\n",
    "- Demo of [Audiocraft Meta Model](https://github.com/facebookresearch/audiocraft).\n",
    "\n",
    "This model has been recently published by Meta and it allows to create music clips from text strings. \n",
    "\n",
    "The first time you execute `musicgen.MusicGen.get_pretrained` the model will be automatically downloaded and loaded into memory. After running it, do not forget to shutdown your kernel, otherwise the model will remain in the GPU memory. \n",
    "\n",
    "In the terminal you can check how much VRAM is being allocated by a model by using `nvitop`"
   ]
  },
  {
   "attachments": {},
   "cell_type": "markdown",
   "metadata": {},
   "source": [
    "<hr>"
   ]
  },
  {
   "cell_type": "code",
   "execution_count": null,
   "metadata": {},
   "outputs": [],
   "source": [
    "from audiocraft.models import musicgen\n",
    "from audiocraft.utils.notebook import display_audio\n",
    "import torch"
   ]
  },
  {
   "cell_type": "code",
   "execution_count": null,
   "metadata": {},
   "outputs": [],
   "source": [
    "model = musicgen.MusicGen.get_pretrained('medium', device='cuda')\n",
    "model.set_generation_params(duration=8)"
   ]
  },
  {
   "cell_type": "code",
   "execution_count": null,
   "metadata": {},
   "outputs": [],
   "source": [
    "res = model.generate([\n",
    "    'crazy EDM, heavy bang about data science', \n",
    "    'classic reggae track with an electronic guitar solo, data science',\n",
    "    'lofi slow bpm electro chill with organic samples',\n",
    "    'rock with saturated guitars, a heavy bass line and crazy drum break and fills.',\n",
    "    'earthy tones, environmentally conscious, ukulele-infused, harmonic, breezy, easygoing, organic instrumentation, gentle grooves',\n",
    "], \n",
    "    progress=True)\n",
    "display_audio(res, 32000)"
   ]
  },
  {
   "attachments": {},
   "cell_type": "markdown",
   "metadata": {},
   "source": [
    "<hr>"
   ]
  },
  {
   "attachments": {},
   "cell_type": "markdown",
   "metadata": {},
   "source": [
    "SDSC Large Language Model Playground.\n",
    "\n",
    "Created with ❤️ by ORDES SDSC Team. 2023. \n",
    "\n",
    "Maintained by [carlos.vivarrios@epfl.ch](carlos.vivarrios@epfl.ch)"
   ]
  },
  {
   "attachments": {},
   "cell_type": "markdown",
   "metadata": {},
   "source": [
    "<hr>"
   ]
  }
 ],
 "metadata": {
  "language_info": {
   "name": "python"
  },
  "orig_nbformat": 4
 },
 "nbformat": 4,
 "nbformat_minor": 2
}
