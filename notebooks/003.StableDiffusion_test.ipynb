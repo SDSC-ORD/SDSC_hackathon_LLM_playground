{
 "cells": [
  {
   "attachments": {},
   "cell_type": "markdown",
   "metadata": {},
   "source": [
    "<hr>"
   ]
  },
  {
   "attachments": {},
   "cell_type": "markdown",
   "metadata": {},
   "source": [
    "<div>\n",
    "    <img src=\"https://datascience.ch/wp-content/uploads/2020/09/logo-SDSC-transparent.png\" alt=\"SDSC\" width=\"200\">\n",
    "</div>\n"
   ]
  },
  {
   "attachments": {},
   "cell_type": "markdown",
   "metadata": {},
   "source": [
    "# SDSC Stable Diffusion Demo\n",
    "- Maintained by [carlos.vivarrios@epfl.ch](carlos.vivarrios@epfl.ch)\n",
    "- This tutorial is made to be run in this [docker image](https://hub.docker.com/r/caviri/sdsc-llm-playground)\n",
    "- Based in this [Colab Tutorial](https://colab.research.google.com/github/huggingface/notebooks/blob/main/diffusers/stable_diffusion.ipynb#scrollTo=yEErJFjlrSWS)\n",
    "\n",
    "\n",
    "In this notebook we show a simple way to have a model for text to image (TTI) generation. (In theory) Any TTI diffusers model in [Huggingface.co](https://huggingface.co/models?pipeline_tag=text-to-image&sort=downloads) can be used by passing its path to the `model` parameter. \n",
    "\n",
    "The first time you execute `StableDiffusionPipeline.from_pretrained` the model will be automatically downloaded and loaded into memory. After running it, do not forget to shutdown your kernel, otherwise the model will remain in the GPU memory. \n",
    "\n",
    "Usually models ara available in different sizes or trained on different datasets. \n",
    "\n",
    "Other models: \n",
    "\n",
    "|Models| Link\n",
    "|---| ---\n",
    "runwayml/stable-diffusion-v1-5 | https://huggingface.co/runwayml/stable-diffusion-v1-5\n",
    "prompthero/openjourney  | https://huggingface.co/prompthero/openjourney\n",
    "stabilityai/stable-diffusion-2-1 | https://huggingface.co/stabilityai/stable-diffusion-2-1\n",
    "\n",
    "\n",
    "\n",
    "In the terminal you can check how much VRAM is being allocated by a model by using `nvitop`"
   ]
  },
  {
   "attachments": {},
   "cell_type": "markdown",
   "metadata": {},
   "source": [
    "<hr>"
   ]
  },
  {
   "cell_type": "code",
   "execution_count": null,
   "metadata": {},
   "outputs": [],
   "source": [
    "import torch\n",
    "from diffusers import StableDiffusionPipeline\n",
    "\n",
    "pipe = StableDiffusionPipeline.from_pretrained(\"CompVis/stable-diffusion-v1-4\", torch_dtype=torch.float16)  "
   ]
  },
  {
   "cell_type": "code",
   "execution_count": null,
   "metadata": {},
   "outputs": [],
   "source": [
    "pipe = pipe.to(\"cuda\")"
   ]
  },
  {
   "cell_type": "code",
   "execution_count": null,
   "metadata": {},
   "outputs": [],
   "source": [
    "prompt = \"a photograph of an astronaut riding a horse\"\n",
    "image = pipe(prompt).images[0]  # image here is in [PIL format](https://pillow.readthedocs.io/en/stable/)\n",
    "\n",
    "# Now to display an image you can either save it such as:\n",
    "image.save(f\"astronaut_rides_horse.png\")\n",
    "\n",
    "# or if you're in a google colab you can directly display it with \n",
    "image"
   ]
  },
  {
   "attachments": {},
   "cell_type": "markdown",
   "metadata": {},
   "source": [
    "<hr>"
   ]
  },
  {
   "attachments": {},
   "cell_type": "markdown",
   "metadata": {},
   "source": [
    "SDSC Large Language Model Playground.\n",
    "\n",
    "Created with ❤️ by ORDES SDSC Team. 2023. \n",
    "\n",
    "Maintained by [carlos.vivarrios@epfl.ch](carlos.vivarrios@epfl.ch)"
   ]
  },
  {
   "attachments": {},
   "cell_type": "markdown",
   "metadata": {},
   "source": [
    "<hr>"
   ]
  }
 ],
 "metadata": {
  "language_info": {
   "name": "python"
  },
  "orig_nbformat": 4
 },
 "nbformat": 4,
 "nbformat_minor": 2
}
